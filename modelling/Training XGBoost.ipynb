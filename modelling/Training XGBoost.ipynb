{
 "cells": [
  {
   "cell_type": "code",
   "execution_count": 1,
   "metadata": {},
   "outputs": [],
   "source": [
    "import numpy as np\n",
    "import pandas as pd\n",
    "\n",
    "import matplotlib.pyplot as plt\n",
    "%matplotlib inline\n",
    "\n",
    "from sklearn.model_selection import GridSearchCV\n",
    "from sklearn import metrics\n",
    "\n",
    "import xgboost as xgb"
   ]
  },
  {
   "cell_type": "markdown",
   "metadata": {},
   "source": [
    "## Setup data"
   ]
  },
  {
   "cell_type": "code",
   "execution_count": 2,
   "metadata": {},
   "outputs": [],
   "source": [
    "fires = pd.read_csv(\"./forestfires.csv\")\n",
    "\n",
    "FEATURE_NAMES = [\n",
    "    \"DC\",\n",
    "    \"temp\",\n",
    "    \"RH\",\n",
    "    \"wind\",\n",
    "]\n",
    "\n",
    "fires = fires[np.log(fires[\"area\"]+1) < 4]\n",
    "\n",
    "X, y = fires[FEATURE_NAMES], np.log(fires[\"area\"]+1)"
   ]
  },
  {
   "cell_type": "code",
   "execution_count": 3,
   "metadata": {},
   "outputs": [],
   "source": [
    "custom_scorer = metrics.make_scorer(\n",
    "    lambda y, y_pred: np.sqrt(metrics.mean_squared_error(y, y_pred)), greater_is_better=False\n",
    ")"
   ]
  },
  {
   "cell_type": "markdown",
   "metadata": {},
   "source": [
    "## Parameter Tuning"
   ]
  },
  {
   "cell_type": "code",
   "execution_count": 4,
   "metadata": {},
   "outputs": [],
   "source": [
    "learning_rate_range = [0.001, 0.003, 0.01, 0.03]\n",
    "max_depth_range = [1, 2, 4, 5, 10]\n",
    "n_estimators_range = [1, 2, 3, 4, 5, 10, 20, 50]\n",
    "booster_range = ['gbtree', 'gblinear', 'dart']"
   ]
  },
  {
   "cell_type": "code",
   "execution_count": 5,
   "metadata": {},
   "outputs": [],
   "source": [
    "grid_search = GridSearchCV(\n",
    "    xgb.XGBRegressor(),\n",
    "    param_grid={\"learning_rate\": learning_rate_range,\n",
    "                \"max_depth\": max_depth_range,\n",
    "                \"n_estimators\": n_estimators_range,\n",
    "                \"booster\": booster_range},\n",
    "    cv=10,\n",
    "    n_jobs=-1,\n",
    "    scoring=\"neg_mean_absolute_error\",\n",
    ")"
   ]
  },
  {
   "cell_type": "code",
   "execution_count": 6,
   "metadata": {
    "scrolled": true
   },
   "outputs": [
    {
     "name": "stderr",
     "output_type": "stream",
     "text": [
      "/home/nikolay/anaconda2/envs/NASA/lib/python3.7/site-packages/sklearn/model_selection/_search.py:841: DeprecationWarning: The default of the `iid` parameter will change from True to False in version 0.22 and will be removed in 0.24. This will change numeric results when test-set sizes are unequal.\n",
      "  DeprecationWarning)\n"
     ]
    },
    {
     "data": {
      "text/plain": [
       "GridSearchCV(cv=10, error_score='raise-deprecating',\n",
       "       estimator=XGBRegressor(base_score=0.5, booster='gbtree', colsample_bylevel=1,\n",
       "       colsample_bytree=1, gamma=0, learning_rate=0.1, max_delta_step=0,\n",
       "       max_depth=3, min_child_weight=1, missing=None, n_estimators=100,\n",
       "       n_jobs=1, nthread=None, objective='reg:linear', random_state=0,\n",
       "       reg_alpha=0, reg_lambda=1, scale_pos_weight=1, seed=None,\n",
       "       silent=True, subsample=1),\n",
       "       fit_params=None, iid='warn', n_jobs=-1,\n",
       "       param_grid={'learning_rate': [0.001, 0.003, 0.01, 0.03], 'max_depth': [1, 2, 4, 5, 10], 'n_estimators': [1, 2, 3, 4, 5, 10, 20, 50], 'booster': ['gbtree', 'gblinear', 'dart']},\n",
       "       pre_dispatch='2*n_jobs', refit=True, return_train_score='warn',\n",
       "       scoring='neg_mean_absolute_error', verbose=0)"
      ]
     },
     "execution_count": 6,
     "metadata": {},
     "output_type": "execute_result"
    }
   ],
   "source": [
    "grid_search.fit(X, y)"
   ]
  },
  {
   "cell_type": "code",
   "execution_count": 7,
   "metadata": {},
   "outputs": [
    {
     "data": {
      "text/plain": [
       "XGBRegressor(base_score=0.5, booster='gbtree', colsample_bylevel=1,\n",
       "       colsample_bytree=1, gamma=0, learning_rate=0.001, max_delta_step=0,\n",
       "       max_depth=10, min_child_weight=1, missing=None, n_estimators=1,\n",
       "       n_jobs=1, nthread=None, objective='reg:linear', random_state=0,\n",
       "       reg_alpha=0, reg_lambda=1, scale_pos_weight=1, seed=None,\n",
       "       silent=True, subsample=1)"
      ]
     },
     "execution_count": 7,
     "metadata": {},
     "output_type": "execute_result"
    }
   ],
   "source": [
    "grid_search.best_estimator_"
   ]
  },
  {
   "cell_type": "code",
   "execution_count": 8,
   "metadata": {},
   "outputs": [
    {
     "data": {
      "text/plain": [
       "-0.9483718568025007"
      ]
     },
     "execution_count": 8,
     "metadata": {},
     "output_type": "execute_result"
    }
   ],
   "source": [
    "grid_search.best_score_"
   ]
  },
  {
   "cell_type": "code",
   "execution_count": 9,
   "metadata": {},
   "outputs": [
    {
     "data": {
      "text/plain": [
       "{'booster': 'gbtree',\n",
       " 'learning_rate': 0.001,\n",
       " 'max_depth': 10,\n",
       " 'n_estimators': 1}"
      ]
     },
     "execution_count": 9,
     "metadata": {},
     "output_type": "execute_result"
    }
   ],
   "source": [
    "grid_search.best_params_"
   ]
  },
  {
   "cell_type": "code",
   "execution_count": 14,
   "metadata": {},
   "outputs": [],
   "source": [
    "y_raw = fires[\"area\"]"
   ]
  },
  {
   "cell_type": "code",
   "execution_count": 15,
   "metadata": {},
   "outputs": [],
   "source": [
    "y_pred = grid_search.predict(X)\n",
    "\n",
    "a = np.argmin(y_pred)\n",
    "b = np.argmax(y_pred)"
   ]
  },
  {
   "cell_type": "code",
   "execution_count": 16,
   "metadata": {},
   "outputs": [
    {
     "data": {
      "text/plain": [
       "1.6479658"
      ]
     },
     "execution_count": 16,
     "metadata": {},
     "output_type": "execute_result"
    }
   ],
   "source": [
    "np.exp(y_pred[a])"
   ]
  },
  {
   "cell_type": "code",
   "execution_count": 17,
   "metadata": {},
   "outputs": [
    {
     "data": {
      "text/plain": [
       "1.6522148"
      ]
     },
     "execution_count": 17,
     "metadata": {},
     "output_type": "execute_result"
    }
   ],
   "source": [
    "np.exp(y_pred[b])"
   ]
  },
  {
   "cell_type": "code",
   "execution_count": 18,
   "metadata": {},
   "outputs": [
    {
     "data": {
      "text/plain": [
       "0.0"
      ]
     },
     "execution_count": 18,
     "metadata": {},
     "output_type": "execute_result"
    }
   ],
   "source": [
    "y_raw[a]"
   ]
  },
  {
   "cell_type": "code",
   "execution_count": 19,
   "metadata": {},
   "outputs": [
    {
     "data": {
      "text/plain": [
       "37.71"
      ]
     },
     "execution_count": 19,
     "metadata": {},
     "output_type": "execute_result"
    }
   ],
   "source": [
    "y_raw[b]"
   ]
  },
  {
   "cell_type": "code",
   "execution_count": 20,
   "metadata": {},
   "outputs": [
    {
     "data": {
      "text/plain": [
       "array([0.49954545, 0.5003014 , 0.5003014 , 0.49957144, 0.49957144,\n",
       "       0.5003014 , 0.5003014 , 0.4995625 , 0.50126857, 0.5003014 ,\n",
       "       0.49954545, 0.5003014 , 0.50031084, 0.5003014 , 0.4995625 ,\n",
       "       0.5003014 , 0.5003014 , 0.5003014 , 0.49964878, 0.5003014 ,\n",
       "       0.5003014 , 0.5003014 , 0.5003014 , 0.5003014 , 0.5003014 ,\n",
       "       0.50031084, 0.5003014 , 0.5003014 , 0.4995625 , 0.5003014 ,\n",
       "       0.4995625 , 0.5001529 , 0.5003014 , 0.5003014 , 0.5003014 ,\n",
       "       0.50031084, 0.49954167, 0.4995625 , 0.5003014 , 0.49964878,\n",
       "       0.5003014 , 0.5003014 , 0.50031084, 0.5003014 , 0.49966666,\n",
       "       0.4995625 , 0.50031084, 0.5003014 , 0.49964878, 0.5003014 ,\n",
       "       0.49975   , 0.5003014 , 0.5003014 , 0.5003014 , 0.5003014 ,\n",
       "       0.4995625 , 0.50031084, 0.5003014 , 0.49964878, 0.49954545,\n",
       "       0.5003014 , 0.4995625 , 0.5003014 , 0.5003014 , 0.5003014 ,\n",
       "       0.5003014 , 0.5003014 , 0.5003014 , 0.5003014 , 0.5003014 ,\n",
       "       0.5003014 , 0.5003014 , 0.5003014 , 0.5003014 , 0.49975   ,\n",
       "       0.499625  , 0.49964878, 0.4995625 , 0.50031084, 0.49954167,\n",
       "       0.5003014 , 0.5003014 , 0.49954545, 0.5003014 , 0.5003014 ,\n",
       "       0.5004966 , 0.5003014 , 0.5003014 , 0.5003014 , 0.5003014 ,\n",
       "       0.50031084, 0.49954167, 0.5003014 , 0.5003014 , 0.49954167,\n",
       "       0.50031084, 0.49964878, 0.49954167, 0.4995625 , 0.5003014 ,\n",
       "       0.5003014 , 0.50031084, 0.5003014 , 0.5003014 , 0.499625  ,\n",
       "       0.49954545, 0.5003014 , 0.5003014 , 0.5003014 , 0.50031084,\n",
       "       0.49964878, 0.49954167, 0.5003014 , 0.5003014 , 0.49964878,\n",
       "       0.49964878, 0.5003014 , 0.5003014 , 0.5003014 , 0.5003014 ,\n",
       "       0.4995625 , 0.5003014 , 0.5003014 , 0.5003014 , 0.5003014 ,\n",
       "       0.49954167, 0.5003014 , 0.5003014 , 0.5003014 , 0.5003014 ,\n",
       "       0.5003014 , 0.49964878, 0.5003014 , 0.5003014 , 0.49964878,\n",
       "       0.49954545, 0.50031084, 0.50031084, 0.5003014 , 0.5003014 ,\n",
       "       0.5003014 , 0.5003014 , 0.4999881 , 0.50031084, 0.5003014 ,\n",
       "       0.5000709 , 0.5003014 , 0.5003014 , 0.5003014 , 0.5003014 ,\n",
       "       0.5003014 , 0.5003014 , 0.5003014 , 0.5003014 , 0.50053614,\n",
       "       0.5003014 , 0.50053614, 0.5003014 , 0.5003014 , 0.5003014 ,\n",
       "       0.5003014 , 0.5003014 , 0.5003014 , 0.50031084, 0.50031084,\n",
       "       0.5000481 , 0.5003014 , 0.5003014 , 0.5003014 , 0.5003014 ,\n",
       "       0.5003014 , 0.5003014 , 0.5003014 , 0.5003014 , 0.50031084,\n",
       "       0.5003014 , 0.50170046, 0.5003014 , 0.5008806 , 0.50031084,\n",
       "       0.5003014 , 0.5003014 , 0.50170046, 0.5003014 , 0.5003014 ,\n",
       "       0.5003014 , 0.5003014 , 0.5003014 , 0.5003014 , 0.50170046,\n",
       "       0.5003014 , 0.5003014 , 0.501224  , 0.5003014 , 0.501224  ,\n",
       "       0.5003014 , 0.50170046, 0.5004966 , 0.50126857, 0.5003014 ,\n",
       "       0.5003014 , 0.50170046, 0.50170046, 0.5003014 , 0.50170046,\n",
       "       0.5003014 , 0.5003014 , 0.5003014 , 0.5003014 , 0.5003014 ,\n",
       "       0.5003014 , 0.5019492 , 0.5003014 , 0.5003014 , 0.5003014 ,\n",
       "       0.5003014 , 0.50031084, 0.50126857, 0.501494  , 0.5003014 ,\n",
       "       0.50031084, 0.5003014 , 0.5003014 , 0.50126857, 0.5021167 ,\n",
       "       0.5003014 , 0.5003014 , 0.499625  , 0.49954545, 0.49954167,\n",
       "       0.50031084, 0.50031084, 0.50031084, 0.50003266, 0.5003014 ,\n",
       "       0.50031084, 0.49966666, 0.5003014 , 0.5000094 , 0.5003014 ,\n",
       "       0.5003014 , 0.5003014 , 0.5003014 , 0.5003014 , 0.5003014 ,\n",
       "       0.5003014 , 0.50031084, 0.5003014 , 0.5017222 , 0.5001529 ,\n",
       "       0.5003014 , 0.5003014 , 0.50031084, 0.50031084, 0.50031084,\n",
       "       0.49954167, 0.5003014 , 0.50031084, 0.50031084, 0.50031084,\n",
       "       0.5003014 , 0.5019492 , 0.5019492 , 0.5019492 , 0.5019492 ,\n",
       "       0.5019492 , 0.5019492 , 0.5019492 , 0.5019492 , 0.5019492 ,\n",
       "       0.49975   , 0.5007967 , 0.5007967 , 0.5003014 , 0.49957144,\n",
       "       0.5003014 , 0.5003014 , 0.5003014 , 0.50031084, 0.5003014 ,\n",
       "       0.5003014 , 0.50031084, 0.5003014 , 0.5003014 , 0.5003014 ,\n",
       "       0.5003014 , 0.49957144, 0.5003014 , 0.5003014 , 0.5003014 ,\n",
       "       0.5003014 , 0.49957144, 0.49954545, 0.50031084, 0.5003014 ,\n",
       "       0.4996    , 0.49966666, 0.49966666, 0.5011136 , 0.50126857,\n",
       "       0.49975   , 0.5008806 , 0.4996    , 0.49975   , 0.5006767 ,\n",
       "       0.4996    , 0.5016533 , 0.5016533 , 0.50083685, 0.50083685,\n",
       "       0.5005128 , 0.50126857, 0.50062835, 0.4996    , 0.4996    ,\n",
       "       0.499625  , 0.5006767 , 0.50062835, 0.5016533 , 0.5008806 ,\n",
       "       0.50031084, 0.49966666, 0.4996    , 0.5008806 , 0.5017105 ,\n",
       "       0.5008806 , 0.5008806 , 0.49975   , 0.499625  , 0.5006965 ,\n",
       "       0.500763  , 0.5008806 , 0.5017105 , 0.5002551 , 0.49966666,\n",
       "       0.5002551 , 0.5002551 , 0.5006965 , 0.5003043 , 0.5008806 ,\n",
       "       0.5008806 , 0.5016533 , 0.5016533 , 0.49966666, 0.499625  ,\n",
       "       0.5017105 , 0.5008806 , 0.50083685, 0.49995935, 0.50043434,\n",
       "       0.5017105 , 0.5008806 , 0.5006965 , 0.49966666, 0.5021167 ,\n",
       "       0.500763  , 0.500763  , 0.50031084, 0.4995625 , 0.5003014 ,\n",
       "       0.5011865 , 0.5021167 , 0.50031084, 0.49954545, 0.49957144,\n",
       "       0.5003014 , 0.50031084, 0.5017222 , 0.5016406 , 0.5016533 ,\n",
       "       0.5003014 , 0.5016533 , 0.49964878, 0.5003014 , 0.5003014 ,\n",
       "       0.50170046, 0.5017105 , 0.49954167, 0.5000481 , 0.50170046,\n",
       "       0.5016533 , 0.5003014 , 0.5003014 , 0.5002848 , 0.5002848 ,\n",
       "       0.50083685, 0.5003014 , 0.5003014 , 0.5003014 , 0.49966666,\n",
       "       0.5011865 , 0.49964878, 0.5008806 , 0.5003014 , 0.49964878,\n",
       "       0.50170046, 0.5003014 , 0.49966666, 0.5003014 , 0.5015728 ,\n",
       "       0.49954167, 0.5003014 , 0.5003014 , 0.4995625 , 0.50062835,\n",
       "       0.50002116, 0.50053614, 0.4996    , 0.4996    , 0.5002848 ,\n",
       "       0.49966666, 0.5003014 , 0.4996    , 0.5003014 , 0.5003014 ,\n",
       "       0.50031084, 0.4996    , 0.49954545, 0.49996588, 0.4996    ,\n",
       "       0.50031084, 0.5008806 , 0.5005128 , 0.5003014 , 0.50170046,\n",
       "       0.50031084, 0.5005128 , 0.50031084, 0.50031084, 0.5007967 ,\n",
       "       0.49975   , 0.50031084, 0.5003014 , 0.50126857, 0.50031084,\n",
       "       0.4996    , 0.4996    , 0.5003014 , 0.4996    , 0.50031084,\n",
       "       0.500763  , 0.50031084, 0.50031084, 0.500763  , 0.5006663 ,\n",
       "       0.5006663 , 0.5007796 , 0.5007967 , 0.5007967 , 0.49964878,\n",
       "       0.49964878, 0.50158787, 0.50031084, 0.5015728 , 0.5003014 ,\n",
       "       0.5002576 , 0.5015728 , 0.50031084, 0.5004811 , 0.49975   ,\n",
       "       0.5003014 , 0.49966666, 0.5020128 , 0.5004811 , 0.5003014 ,\n",
       "       0.5015728 , 0.50031084, 0.50031084, 0.49975   , 0.4995625 ,\n",
       "       0.49966666, 0.5017222 , 0.5017222 , 0.5003014 , 0.5010265 ,\n",
       "       0.5010265 , 0.5020128 , 0.5015728 , 0.50031084, 0.50031084,\n",
       "       0.50031084, 0.5017222 , 0.5017222 , 0.5017105 , 0.49966666,\n",
       "       0.4996    , 0.4996    , 0.5003269 , 0.49992883, 0.5002848 ,\n",
       "       0.5017222 , 0.50031084, 0.5003014 , 0.5003014 ], dtype=float32)"
      ]
     },
     "execution_count": 20,
     "metadata": {},
     "output_type": "execute_result"
    }
   ],
   "source": [
    "y_pred"
   ]
  },
  {
   "cell_type": "code",
   "execution_count": null,
   "metadata": {},
   "outputs": [],
   "source": []
  }
 ],
 "metadata": {
  "kernelspec": {
   "display_name": "Python 3",
   "language": "python",
   "name": "python3"
  },
  "language_info": {
   "codemirror_mode": {
    "name": "ipython",
    "version": 3
   },
   "file_extension": ".py",
   "mimetype": "text/x-python",
   "name": "python",
   "nbconvert_exporter": "python",
   "pygments_lexer": "ipython3",
   "version": "3.7.0"
  }
 },
 "nbformat": 4,
 "nbformat_minor": 2
}
